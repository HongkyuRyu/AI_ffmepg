{
 "cells": [
  {
   "cell_type": "code",
   "execution_count": null,
   "metadata": {},
   "outputs": [],
   "source": [
    "# !pip install -r requirements.txt"
   ]
  },
  {
   "cell_type": "code",
   "execution_count": 1,
   "metadata": {},
   "outputs": [
    {
     "name": "stderr",
     "output_type": "stream",
     "text": [
      "c:\\Users\\minsu\\anaconda3\\envs\\deeplearning\\lib\\site-packages\\whisper\\timing.py:58: NumbaDeprecationWarning: \u001b[1mThe 'nopython' keyword argument was not supplied to the 'numba.jit' decorator. The implicit default value for this argument is currently False, but it will be changed to True in Numba 0.59.0. See https://numba.readthedocs.io/en/stable/reference/deprecation.html#deprecation-of-object-mode-fall-back-behaviour-when-using-jit for details.\u001b[0m\n",
      "  def backtrace(trace: np.ndarray):\n"
     ]
    }
   ],
   "source": [
    "from easyocr import Reader\n",
    "from pytube import YouTube\n",
    "\n",
    "import time\n",
    "import pandas as pd\n",
    "import cv2\n",
    "import whisper\n",
    "import pickle\n",
    "import joblib\n",
    "from tqdm import tqdm\n",
    "import warnings\n",
    "warnings.filterwarnings('ignore')"
   ]
  },
  {
   "attachments": {},
   "cell_type": "markdown",
   "metadata": {},
   "source": [
    "### 1. CV2"
   ]
  },
  {
   "cell_type": "code",
   "execution_count": 2,
   "metadata": {},
   "outputs": [
    {
     "name": "stderr",
     "output_type": "stream",
     "text": [
      "Using CPU. Note: This module is much faster with a GPU.\n"
     ]
    }
   ],
   "source": [
    "langs = ['ko', 'en']\n",
    "easyocr_CV2 = Reader(lang_list=langs, gpu=False)\n",
    "\n",
    "whisper_model = whisper.load_model(\"base\")"
   ]
  },
  {
   "cell_type": "code",
   "execution_count": 3,
   "metadata": {},
   "outputs": [],
   "source": [
    "url = 'https://www.youtube.com/watch?v=bGcVkNP1tPs&t=2s&ab_channel=1%EB%B6%84%EB%AF%B8%EB%A7%8C'\n",
    "yt = YouTube(url)\n",
    "video = yt.streams.get_highest_resolution()\n",
    "audio = yt.streams.filter(only_audio=True).first()"
   ]
  },
  {
   "cell_type": "code",
   "execution_count": 17,
   "metadata": {},
   "outputs": [
    {
     "name": "stdout",
     "output_type": "stream",
     "text": [
      "fps : 30.0\n",
      "frame_count : 3594.0\n"
     ]
    },
    {
     "name": "stderr",
     "output_type": "stream",
     "text": [
      " 84%|████████▍ | 3021/3594 [04:40<00:53, 10.77it/s]"
     ]
    },
    {
     "name": "stdout",
     "output_type": "stream",
     "text": [
      "not success frame : 3021.0\n",
      "not success time : 100.7\n",
      "not success ... break\n",
      "time : 280.4164478778839\n"
     ]
    },
    {
     "name": "stderr",
     "output_type": "stream",
     "text": [
      "\n"
     ]
    }
   ],
   "source": [
    "# easyocr으로 Text 추출\n",
    "cap = cv2.VideoCapture(video.url)\n",
    "fps = cap.get(cv2.CAP_PROP_FPS)\n",
    "frame_count = cap.get(cv2.CAP_PROP_FRAME_COUNT) # 프레임 개수\n",
    "print(\"fps :\", fps)\n",
    "print(\"frame_count :\", frame_count)\n",
    "easyocr_results = pd.DataFrame(columns=[\"bbox\", \"text\", \"conf\", \"time\"])\n",
    "images = []\n",
    "time_CV2 = []\n",
    "start_time = time.time()\n",
    "for _ in tqdm(range(int(frame_count))):\n",
    "    frame_pos = cap.get(cv2.CAP_PROP_POS_FRAMES) # 현재 프레임\n",
    "    success, frame = cap.read()\n",
    "    if not success:\n",
    "        print('not success frame :', frame_pos)\n",
    "        print('not success time :', frame_pos / fps)\n",
    "        print('not success ... break')\n",
    "        break\n",
    "    if frame_pos % fps != 0: # 1초에 한 장씩\n",
    "        continue\n",
    "    images.append(frame)\n",
    "    result = pd.DataFrame(easyocr_CV2.readtext(frame, detail=1), columns=['bbox', 'text', 'conf'])\n",
    "    result['time'] = frame_pos / fps \n",
    "    easyocr_results = pd.concat([easyocr_results, result], ignore_index=True)\n",
    "    # if count // fps >= 5: # 5초까지\n",
    "    #     break\n",
    "    time_CV2.append(time.time() - start_time)\n",
    "end_time = time.time()\n",
    "\n",
    "print(\"time :\", end_time - start_time)"
   ]
  },
  {
   "cell_type": "code",
   "execution_count": 18,
   "metadata": {},
   "outputs": [
    {
     "data": {
      "text/html": [
       "<div>\n",
       "<style scoped>\n",
       "    .dataframe tbody tr th:only-of-type {\n",
       "        vertical-align: middle;\n",
       "    }\n",
       "\n",
       "    .dataframe tbody tr th {\n",
       "        vertical-align: top;\n",
       "    }\n",
       "\n",
       "    .dataframe thead th {\n",
       "        text-align: right;\n",
       "    }\n",
       "</style>\n",
       "<table border=\"1\" class=\"dataframe\">\n",
       "  <thead>\n",
       "    <tr style=\"text-align: right;\">\n",
       "      <th></th>\n",
       "      <th>bbox</th>\n",
       "      <th>text</th>\n",
       "      <th>conf</th>\n",
       "      <th>time</th>\n",
       "    </tr>\n",
       "  </thead>\n",
       "  <tbody>\n",
       "    <tr>\n",
       "      <th>0</th>\n",
       "      <td>[[497, 254], [787, 254], [787, 340], [497, 340]]</td>\n",
       "      <td>자 오늘은</td>\n",
       "      <td>0.999160</td>\n",
       "      <td>0.0</td>\n",
       "    </tr>\n",
       "    <tr>\n",
       "      <th>1</th>\n",
       "      <td>[[253, 252], [1027, 252], [1027, 343], [253, 3...</td>\n",
       "      <td>지금 전국민이 훈린에 빠진</td>\n",
       "      <td>0.502869</td>\n",
       "      <td>1.0</td>\n",
       "    </tr>\n",
       "    <tr>\n",
       "      <th>2</th>\n",
       "      <td>[[463, 251], [816, 251], [816, 342], [463, 342]]</td>\n",
       "      <td>우회전 관련</td>\n",
       "      <td>0.731145</td>\n",
       "      <td>2.0</td>\n",
       "    </tr>\n",
       "    <tr>\n",
       "      <th>3</th>\n",
       "      <td>[[326, 252], [953, 252], [953, 341], [326, 341]]</td>\n",
       "      <td>(최종정리 영상 인데요</td>\n",
       "      <td>0.747477</td>\n",
       "      <td>3.0</td>\n",
       "    </tr>\n",
       "    <tr>\n",
       "      <th>4</th>\n",
       "      <td>[[268, 204], [342, 204], [342, 236], [268, 236]]</td>\n",
       "      <td>막가각</td>\n",
       "      <td>0.999576</td>\n",
       "      <td>4.0</td>\n",
       "    </tr>\n",
       "    <tr>\n",
       "      <th>...</th>\n",
       "      <td>...</td>\n",
       "      <td>...</td>\n",
       "      <td>...</td>\n",
       "      <td>...</td>\n",
       "    </tr>\n",
       "    <tr>\n",
       "      <th>145</th>\n",
       "      <td>[[23, 95], [993, 95], [993, 203], [23, 203]]</td>\n",
       "      <td>돼리에세다 일시정지하고선</td>\n",
       "      <td>0.425776</td>\n",
       "      <td>96.0</td>\n",
       "    </tr>\n",
       "    <tr>\n",
       "      <th>146</th>\n",
       "      <td>[[25, 95], [905, 95], [905, 203], [25, 203]]</td>\n",
       "      <td>라느데 맞다라고 보고서움</td>\n",
       "      <td>0.121264</td>\n",
       "      <td>97.0</td>\n",
       "    </tr>\n",
       "    <tr>\n",
       "      <th>147</th>\n",
       "      <td>[[28, 96], [904, 96], [904, 200], [28, 200]]</td>\n",
       "      <td>가능게 맞다라고 보고서움</td>\n",
       "      <td>0.134659</td>\n",
       "      <td>98.0</td>\n",
       "    </tr>\n",
       "    <tr>\n",
       "      <th>148</th>\n",
       "      <td>[[27, 95], [759, 95], [759, 203], [27, 203]]</td>\n",
       "      <td>이렇제 매정올 합h락</td>\n",
       "      <td>0.170258</td>\n",
       "      <td>99.0</td>\n",
       "    </tr>\n",
       "    <tr>\n",
       "      <th>149</th>\n",
       "      <td>[[28, 96], [756, 96], [756, 200], [28, 200]]</td>\n",
       "      <td>법률상으로되울때늄</td>\n",
       "      <td>0.034780</td>\n",
       "      <td>100.0</td>\n",
       "    </tr>\n",
       "  </tbody>\n",
       "</table>\n",
       "<p>150 rows × 4 columns</p>\n",
       "</div>"
      ],
      "text/plain": [
       "                                                  bbox            text  \\\n",
       "0     [[497, 254], [787, 254], [787, 340], [497, 340]]           자 오늘은   \n",
       "1    [[253, 252], [1027, 252], [1027, 343], [253, 3...  지금 전국민이 훈린에 빠진   \n",
       "2     [[463, 251], [816, 251], [816, 342], [463, 342]]          우회전 관련   \n",
       "3     [[326, 252], [953, 252], [953, 341], [326, 341]]    (최종정리 영상 인데요   \n",
       "4     [[268, 204], [342, 204], [342, 236], [268, 236]]             막가각   \n",
       "..                                                 ...             ...   \n",
       "145       [[23, 95], [993, 95], [993, 203], [23, 203]]   돼리에세다 일시정지하고선   \n",
       "146       [[25, 95], [905, 95], [905, 203], [25, 203]]   라느데 맞다라고 보고서움   \n",
       "147       [[28, 96], [904, 96], [904, 200], [28, 200]]   가능게 맞다라고 보고서움   \n",
       "148       [[27, 95], [759, 95], [759, 203], [27, 203]]     이렇제 매정올 합h락   \n",
       "149       [[28, 96], [756, 96], [756, 200], [28, 200]]       법률상으로되울때늄   \n",
       "\n",
       "         conf   time  \n",
       "0    0.999160    0.0  \n",
       "1    0.502869    1.0  \n",
       "2    0.731145    2.0  \n",
       "3    0.747477    3.0  \n",
       "4    0.999576    4.0  \n",
       "..        ...    ...  \n",
       "145  0.425776   96.0  \n",
       "146  0.121264   97.0  \n",
       "147  0.134659   98.0  \n",
       "148  0.170258   99.0  \n",
       "149  0.034780  100.0  \n",
       "\n",
       "[150 rows x 4 columns]"
      ]
     },
     "execution_count": 18,
     "metadata": {},
     "output_type": "execute_result"
    }
   ],
   "source": [
    "easyocr_results"
   ]
  },
  {
   "cell_type": "code",
   "execution_count": 19,
   "metadata": {},
   "outputs": [],
   "source": [
    "easyocr_model = joblib.load(\"easyocr_model.pkl\")"
   ]
  },
  {
   "cell_type": "code",
   "execution_count": 20,
   "metadata": {},
   "outputs": [
    {
     "name": "stdout",
     "output_type": "stream",
     "text": [
      "fps : 30.0\n",
      "frame_count : 3594\n",
      "time : 28.975933074951172\n"
     ]
    }
   ],
   "source": [
    "import subprocess\n",
    "import re\n",
    "import numpy as np\n",
    "\n",
    "easyocr_ffmpeg = pd.DataFrame(columns=[\"bbox\", \"text\", \"conf\", \"time\"])\n",
    "\n",
    "# fps 추출\n",
    "ffmpeg_cmd = ['ffmpeg', '-i', video.url, '-f', 'null', '-']\n",
    "output = subprocess.check_output(ffmpeg_cmd, stderr=subprocess.STDOUT).decode()\n",
    "\n",
    "fps_match = re.search(r\"\\b(\\d+\\.?\\d*)\\sfps\\b\", output)\n",
    "fps = float(fps_match.group(1)) if fps_match else None\n",
    "        \n",
    "# frame_count 추출\n",
    "command = ['ffprobe', '-v', 'error', '-count_frames', '-select_streams', 'v:0', '-show_entries',\n",
    "               'stream=nb_read_frames', '-of', 'default=nokey=1:noprint_wrappers=1', video.url]\n",
    "output = subprocess.check_output(command).decode().strip()\n",
    "frame_count = int(output) if output.isdigit() else None\n",
    "        \n",
    "print(\"fps :\", fps)\n",
    "print(\"frame_count :\", frame_count)\n",
    "        \n",
    "        \n",
    "# 이미지의 width, height 구해야함.\n",
    "wh_command = ['ffprobe', '-v', 'error', '-select_streams', 'v:0', '-show_entries', 'stream=width,height',\n",
    "               '-of', 'csv=s=x:p=0', video.url]\n",
    "output = subprocess.check_output(wh_command).decode().strip()\n",
    "width, height = map(int, output.split('x'))\n",
    "            \n",
    "ffmpeg_a = ['ffmpeg', '-i', video.url, '-vf', 'select=not(mod(n\\\\,{0}))'.format(fps), '-vsync', 'vfr',\n",
    "                  '-f', 'image2pipe', '-pix_fmt', 'rgb24', '-vcodec', 'rawvideo', '-']\n",
    "            \n",
    "# ffmpeg pipeline구성\n",
    "ffmpeg_pipe = subprocess.Popen(ffmpeg_a, stdout=subprocess.PIPE, bufsize=10**8)\n",
    "        \n",
    "frames = []\n",
    "time_ffmepg = []\n",
    "s = time.time()\n",
    "frame_pos = 0\n",
    "#for i in tqdm(range(self.frame_count)):\n",
    "while True:\n",
    "    # 파이프라인에서 프레임 데이터 읽기\n",
    "    raw_frame = ffmpeg_pipe.stdout.read(height * width * 3)\n",
    "    if not raw_frame:\n",
    "        break\n",
    "            \n",
    "    frame = np.frombuffer(raw_frame, np.uint8).reshape((height, width, 3))\n",
    "    frames.append(frame)\n",
    "            \n",
    "    result = pd.DataFrame(easyocr_model.readtext(frame, detail=1), columns=[\n",
    "                'bbox', 'text', 'conf'\n",
    "            ])\n",
    "    result['time'] = frame_pos / fps\n",
    "    easyocr_ffmpeg = pd.concat([easyocr_ffmpeg, result], ignore_index=True)\n",
    "    frame_pos += 1\n",
    "    time_ffmepg.append(time.time() - s)\n",
    "        \n",
    "ffmpeg_pipe.stdout.close()\n",
    "ffmpeg_pipe.wait()\n",
    "        \n",
    "        # 시간을 재기 위해,어쩔수 없이 result를 while문에 구성하였음.\n",
    "        # while문 빼고, 아랫 하단 for문에서 돌리면 시간이 반으로 줄어듬.(이유: 배치파일, 병렬처리 때문인것 같음)\n",
    "        # for i in tqdm(range(len(frames))):  \n",
    "            # result = pd.DataFrame(self.easyocr_model.readtext(frame, detail=1), columns=[\n",
    "            #     'bbox', 'text', 'conf'\n",
    "            # ])\n",
    "            # # result['time'] = frame_pos / self.fps\n",
    "            \n",
    "            # self.easyocr_results = pd.concat([self.easyocr_results, result], ignore_index=True)\n",
    "            # frame_pos += 1\n",
    "e = time.time()\n",
    "print(\"time :\", e - s)"
   ]
  },
  {
   "cell_type": "code",
   "execution_count": 21,
   "metadata": {},
   "outputs": [
    {
     "data": {
      "text/html": [
       "<div>\n",
       "<style scoped>\n",
       "    .dataframe tbody tr th:only-of-type {\n",
       "        vertical-align: middle;\n",
       "    }\n",
       "\n",
       "    .dataframe tbody tr th {\n",
       "        vertical-align: top;\n",
       "    }\n",
       "\n",
       "    .dataframe thead th {\n",
       "        text-align: right;\n",
       "    }\n",
       "</style>\n",
       "<table border=\"1\" class=\"dataframe\">\n",
       "  <thead>\n",
       "    <tr style=\"text-align: right;\">\n",
       "      <th></th>\n",
       "      <th>bbox</th>\n",
       "      <th>text</th>\n",
       "      <th>conf</th>\n",
       "      <th>time</th>\n",
       "    </tr>\n",
       "  </thead>\n",
       "  <tbody>\n",
       "    <tr>\n",
       "      <th>0</th>\n",
       "      <td>[[497, 254], [787, 254], [787, 340], [497, 340]]</td>\n",
       "      <td>자 오늘은</td>\n",
       "      <td>0.998882</td>\n",
       "      <td>0.000000</td>\n",
       "    </tr>\n",
       "    <tr>\n",
       "      <th>1</th>\n",
       "      <td>[[253, 251], [1029, 251], [1029, 343], [253, 3...</td>\n",
       "      <td>지금 전국민이 혼린에 빠진</td>\n",
       "      <td>0.600571</td>\n",
       "      <td>0.033333</td>\n",
       "    </tr>\n",
       "    <tr>\n",
       "      <th>2</th>\n",
       "      <td>[[462, 252], [815, 252], [815, 341], [462, 341]]</td>\n",
       "      <td>우회전 관련</td>\n",
       "      <td>0.995620</td>\n",
       "      <td>0.066667</td>\n",
       "    </tr>\n",
       "    <tr>\n",
       "      <th>3</th>\n",
       "      <td>[[327, 253], [953, 253], [953, 341], [327, 341]]</td>\n",
       "      <td>(최종정리 영상 인데요</td>\n",
       "      <td>0.589350</td>\n",
       "      <td>0.100000</td>\n",
       "    </tr>\n",
       "    <tr>\n",
       "      <th>4</th>\n",
       "      <td>[[268, 204], [342, 204], [342, 236], [268, 236]]</td>\n",
       "      <td>막가각</td>\n",
       "      <td>0.999641</td>\n",
       "      <td>0.133333</td>\n",
       "    </tr>\n",
       "    <tr>\n",
       "      <th>...</th>\n",
       "      <td>...</td>\n",
       "      <td>...</td>\n",
       "      <td>...</td>\n",
       "      <td>...</td>\n",
       "    </tr>\n",
       "    <tr>\n",
       "      <th>178</th>\n",
       "      <td>[[1174.2145699273442, 515.8858279709377], [126...</td>\n",
       "      <td>처름경히교육인'</td>\n",
       "      <td>0.014737</td>\n",
       "      <td>3.933333</td>\n",
       "    </tr>\n",
       "    <tr>\n",
       "      <th>179</th>\n",
       "      <td>[[1217.0843474295577, 526.4253042288673], [127...</td>\n",
       "      <td>964-79</td>\n",
       "      <td>0.335104</td>\n",
       "      <td>3.933333</td>\n",
       "    </tr>\n",
       "    <tr>\n",
       "      <th>180</th>\n",
       "      <td>[[334, 254], [948, 254], [948, 342], [334, 342]]</td>\n",
       "      <td>없없으면 종젯습니다</td>\n",
       "      <td>0.189935</td>\n",
       "      <td>3.966667</td>\n",
       "    </tr>\n",
       "    <tr>\n",
       "      <th>181</th>\n",
       "      <td>[[1193.4222912360003, 627.2111456180002], [127...</td>\n",
       "      <td>{침중히8고육입</td>\n",
       "      <td>0.007341</td>\n",
       "      <td>3.966667</td>\n",
       "    </tr>\n",
       "    <tr>\n",
       "      <th>182</th>\n",
       "      <td>[[1237.5134117075056, 638.6620705367551], [127...</td>\n",
       "      <td>964</td>\n",
       "      <td>0.988807</td>\n",
       "      <td>3.966667</td>\n",
       "    </tr>\n",
       "  </tbody>\n",
       "</table>\n",
       "<p>183 rows × 4 columns</p>\n",
       "</div>"
      ],
      "text/plain": [
       "                                                  bbox            text  \\\n",
       "0     [[497, 254], [787, 254], [787, 340], [497, 340]]           자 오늘은   \n",
       "1    [[253, 251], [1029, 251], [1029, 343], [253, 3...  지금 전국민이 혼린에 빠진   \n",
       "2     [[462, 252], [815, 252], [815, 341], [462, 341]]          우회전 관련   \n",
       "3     [[327, 253], [953, 253], [953, 341], [327, 341]]    (최종정리 영상 인데요   \n",
       "4     [[268, 204], [342, 204], [342, 236], [268, 236]]             막가각   \n",
       "..                                                 ...             ...   \n",
       "178  [[1174.2145699273442, 515.8858279709377], [126...        처름경히교육인'   \n",
       "179  [[1217.0843474295577, 526.4253042288673], [127...          964-79   \n",
       "180   [[334, 254], [948, 254], [948, 342], [334, 342]]      없없으면 종젯습니다   \n",
       "181  [[1193.4222912360003, 627.2111456180002], [127...        {침중히8고육입   \n",
       "182  [[1237.5134117075056, 638.6620705367551], [127...             964   \n",
       "\n",
       "         conf      time  \n",
       "0    0.998882  0.000000  \n",
       "1    0.600571  0.033333  \n",
       "2    0.995620  0.066667  \n",
       "3    0.589350  0.100000  \n",
       "4    0.999641  0.133333  \n",
       "..        ...       ...  \n",
       "178  0.014737  3.933333  \n",
       "179  0.335104  3.933333  \n",
       "180  0.189935  3.966667  \n",
       "181  0.007341  3.966667  \n",
       "182  0.988807  3.966667  \n",
       "\n",
       "[183 rows x 4 columns]"
      ]
     },
     "execution_count": 21,
     "metadata": {},
     "output_type": "execute_result"
    }
   ],
   "source": [
    "easyocr_ffmpeg"
   ]
  },
  {
   "cell_type": "code",
   "execution_count": 24,
   "metadata": {},
   "outputs": [
    {
     "data": {
      "image/png": "[encoded data removed]",
      "text/plain": [
       "<Figure size 500x500 with 1 Axes>"
      ]
     },
     "metadata": {},
     "output_type": "display_data"
    }
   ],
   "source": [
    "import matplotlib.pyplot as plt\n",
    "plt.figure(figsize=(5, 5))\n",
    "plt.plot(time_CV2)\n",
    "plt.plot(time_ffmepg)\n",
    "plt.xlabel('iteration')\n",
    "plt.ylabel('time(s)')\n",
    "plt.title('easyocr & FFmpeg')\n",
    "plt.show()"
   ]
  },
  {
   "cell_type": "code",
   "execution_count": null,
   "metadata": {},
   "outputs": [],
   "source": []
  }
 ],
 "metadata": {
  "kernelspec": {
   "display_name": "[Pytorch1.x]",
   "language": "python",
   "name": "deeplearning"
  },
  "language_info": {
   "codemirror_mode": {
    "name": "ipython",
    "version": 3
   },
   "file_extension": ".py",
   "mimetype": "text/x-python",
   "name": "python",
   "nbconvert_exporter": "python",
   "pygments_lexer": "ipython3",
   "version": "3.10.8"
  },
  "orig_nbformat": 4
 },
 "nbformat": 4,
 "nbformat_minor": 2
}
